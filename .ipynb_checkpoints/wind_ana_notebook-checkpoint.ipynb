{
 "cells": [
  {
   "cell_type": "code",
   "execution_count": 1,
   "metadata": {
    "collapsed": false
   },
   "outputs": [
    {
     "ename": "IndentationError",
     "evalue": "expected an indented block (<ipython-input-1-da9f576ded7c>, line 9)",
     "output_type": "error",
     "traceback": [
      "\u001b[0;36m  File \u001b[0;32m\"<ipython-input-1-da9f576ded7c>\"\u001b[0;36m, line \u001b[0;32m9\u001b[0m\n\u001b[0;31m    az_range = np.arange(0,361,9)\u001b[0m\n\u001b[0m           ^\u001b[0m\n\u001b[0;31mIndentationError\u001b[0m\u001b[0;31m:\u001b[0m expected an indented block\n"
     ]
    }
   ],
   "source": [
    "import matplotlib.pylab as plt\n",
    "import numpy as np\n",
    "import scipy.ndimage as ndimage\n",
    "import glob\n",
    "from scipy import integrate\n",
    "\n",
    "def polar_disk(xgrid,ygrid,xi,yi,hspac,az_spac,up,vp):\n",
    "    az_range = np.arange(0,361,az_spac)\n",
    "    rad_range = np.arange(0,5001,hspac)\n",
    "    rad_range_len = len(rad_range)\n",
    "    az_range_len = len(az_range)\n",
    "    az_range,rad_range = np.meshgrid(az_range,rad_range)\n",
    "    x_polar_test = (xi +(rad_range*np.sin(az_range*np.pi/180.0))[...,np.newaxis]).flatten()\n",
    "    y_polar_test = (yi +(rad_range*np.cos(az_range*np.pi/180.0))[...,np.newaxis]).flatten()\n",
    "    xspts = pts_to_grid(x_polar_test.flatten(),0.0,xgrid)\n",
    "    yspts = pts_to_grid(y_polar_test.flatten(),0.0,ygrid)\n",
    "    u_polar = np.reshape(ndimage.map_coordinates(up,[yspts,xspts],order=3),az_range.shape)\n",
    "    v_polar = np.reshape(ndimage.map_coordinates(vp,[yspts,xspts],order=3),az_range.shape)\n",
    "    vtan = -u_polar*np.cos(az_range*np.pi/180.0)+ v_polar*np.sin(az_range*np.pi/180.0)\n",
    "    vrad = u_polar*np.sin(az_range*np.pi/180.0)- v_polar*np.cos(az_range*np.pi/180.0)\n",
    "    return np.reshape(x_polar_test,az_range.shape),np.reshape(y_polar_test,az_range.shape),vtan,vrad\n",
    "\n",
    "def pts_to_grid(pts_flat,dist,grid):\n",
    "                return np.interp((pts_flat-dist),grid,range(0,len(grid)))\n",
    "\n",
    "day = '20130519'\n",
    "tilt_time = day + '231035'\n",
    "radar = '/home/meso/cappractice/wind_analysis/KTLX_20130519'\n",
    "#for dirf in sorted(glob.glob(radar+'/'+day+'*')):\n",
    "#    print dirf\n",
    "\n",
    "file = open('%s/%s/qd_%s.txt' % (radar,tilt_time, tilt_time))\n",
    "data = []\n",
    "dd=[]\n",
    "for line in file:data.append(line)\n",
    "# number of tilts\n",
    "numt = len(data)\n",
    "\n",
    "for i in range(numt):dd.append(data[i].split())\n",
    "vv_total = np.float32(np.array(dd).reshape((numt,81,81)))\n",
    "\n",
    "file = open('%s/%s/dd_%s.txt' % (radar,tilt_time, tilt_time))\n",
    "data = []\n",
    "dd=[]\n",
    "for line in file:data.append(line)\n",
    "for i in range(numt):dd.append(data[i].split())\n",
    "div_total = np.float32(np.array(dd).reshape((numt,81,81)))\n",
    "\n",
    "file = open('%s/%s/ud_%s.txt' % (radar,tilt_time, tilt_time))\n",
    "data = []\n",
    "dd=[]\n",
    "for line in file:data.append(line)\n",
    "for i in range(numt):dd.append(data[i].split())\n",
    "u_total = np.float32(np.array(dd).reshape((numt,81,81)))\n",
    "\n",
    "file = open('%s/%s/vd_%s.txt' % (radar,tilt_time, tilt_time))\n",
    "data = []\n",
    "dd=[]\n",
    "for line in file:data.append(line)\n",
    "for i in range(numt):dd.append(data[i].split())\n",
    "v_total = np.float32(np.array(dd).reshape((numt,81,81)))\n",
    "\n",
    "wind_magnitude = np.hypot(u_total,v_total)\n",
    "\n",
    "x = np.arange(0,250*81,250)\n",
    "y = np.arange(0,250*81,250)\n",
    "xgrid,ygrid = np.meshgrid(x,y)\n",
    "x_center = 10000.0\n",
    "y_center = 10000.0\n",
    "radial_spacing = 50 # meters\n",
    "azimuthal_spacing = 6 # meters\n",
    "radius = np.arange(0,5001,radial_spacing)\n",
    "azimuth = np.arange(0,361,azimuthal_spacing)\n",
    "Vtan_total = np.zeros((numt,radius.shape[0],azimuth.shape[0]))\n",
    "for i in range(numt):\n",
    "    xpol, ypol, Vtan, Vrad = polar_disk(x,y,x_center,y_center,radial_spacing,azimuthal_spacing,u_total[i],v_total[i])\n",
    "    Vtan_total[i] = Vtan\n",
    "# Max tangential velocity with height\n",
    "Vtan_max = Vtan_total.max(axis=1).max(axis=1)\n",
    "# plot example\n",
    "plt.contourf(xpol,ypol,Vtan_total[5])\n",
    "plt.show()\n",
    "plt.close()"
   ]
  },
  {
   "cell_type": "code",
   "execution_count": null,
   "metadata": {
    "collapsed": true
   },
   "outputs": [],
   "source": []
  }
 ],
 "metadata": {
  "kernelspec": {
   "display_name": "Python 2",
   "language": "python",
   "name": "python2"
  },
  "language_info": {
   "codemirror_mode": {
    "name": "ipython",
    "version": 2
   },
   "file_extension": ".py",
   "mimetype": "text/x-python",
   "name": "python",
   "nbconvert_exporter": "python",
   "pygments_lexer": "ipython2",
   "version": "2.7.11"
  }
 },
 "nbformat": 4,
 "nbformat_minor": 0
}
